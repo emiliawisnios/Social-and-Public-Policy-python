{
  "nbformat": 4,
  "nbformat_minor": 0,
  "metadata": {
    "colab": {
      "provenance": [],
      "authorship_tag": "ABX9TyPIqdJWIIljFoFy4qs+orqb",
      "include_colab_link": true
    },
    "kernelspec": {
      "name": "python3",
      "display_name": "Python 3"
    },
    "language_info": {
      "name": "python"
    }
  },
  "cells": [
    {
      "cell_type": "markdown",
      "metadata": {
        "id": "view-in-github",
        "colab_type": "text"
      },
      "source": [
        "<a href=\"https://colab.research.google.com/github/emiliawisnios/Social-and-Public-Policy-python/blob/main/Social_and_Public_Policy_Coding_Python_03_10_24.ipynb\" target=\"_parent\"><img src=\"https://colab.research.google.com/assets/colab-badge.svg\" alt=\"Open In Colab\"/></a>"
      ]
    },
    {
      "cell_type": "markdown",
      "source": [
        "# Welcome to the Coding Python course!\n",
        "\n",
        "\n",
        "The aim of the course is to familiarize you with practical knowledge in the field of **Python programming** and the **basics of document processing and text analysis**.\n",
        "\n",
        "The course will cover:\n",
        "*   Python Fundamentals\n",
        "*   Regular Expressions\n",
        "*   Data Scraping\n",
        "*   Natural Language Processing (NLP) Fundamentals\n",
        "*   Text Document Processing\n",
        "*   Optical Character Recognition (OCR)\n",
        "*   Language Models in Document Analysis\n",
        "\n",
        "How to pass the course?\n",
        "1. Homeworks (30 points, after every lab)\n",
        "2. Group Project (Code evaluation: 15 points, Presentation: 15 points)\n"
      ],
      "metadata": {
        "id": "EJPVQPf0vN9v"
      }
    },
    {
      "cell_type": "markdown",
      "source": [
        "# Introduction to Python"
      ],
      "metadata": {
        "id": "fWhZWU5e0MnP"
      }
    },
    {
      "cell_type": "markdown",
      "source": [
        "## Variables\n",
        "\n",
        "Variables are used to store information that can be referenced and manipulated in your program.\n",
        "\n",
        "We have several main types of variables:\n",
        "- `str`: writings\n",
        "- `int`: integer number\n",
        "- `float`: floating-point number\n",
        "- `bool`: logical variable (only True or False)"
      ],
      "metadata": {
        "id": "RT7j6j_70ZiA"
      }
    },
    {
      "cell_type": "code",
      "source": [
        "# Example: Storing and using variables\n",
        "policy_area = \"Education\"\n",
        "budget = 200000\n",
        "population = 500000\n",
        "\n",
        "# Print details\n",
        "print(f\"Policy Area: {policy_area}\")\n",
        "print(f\"Budget: ${budget}\")\n",
        "print(f\"Target Population: {population}\")"
      ],
      "metadata": {
        "id": "h_axDLHG0Y6c"
      },
      "execution_count": null,
      "outputs": []
    },
    {
      "cell_type": "markdown",
      "source": [
        "### Task 1.1: Create variables for a policy initiative:\n",
        "- Choose a `policy_area` (e.g., healthcare, environment).\n",
        "- Assign a `budget` and `target_population` size."
      ],
      "metadata": {
        "id": "nycynNdk0rii"
      }
    },
    {
      "cell_type": "code",
      "source": [
        "# Create your variables here\n",
        "policy_area = ''\n",
        "budget =\n",
        "population ="
      ],
      "metadata": {
        "id": "9dOWNMV50MY7"
      },
      "execution_count": null,
      "outputs": []
    },
    {
      "cell_type": "markdown",
      "source": [
        "### Task 1.2: Calculate the per-person budget allocation using your variables."
      ],
      "metadata": {
        "id": "A-qfblWR0umB"
      }
    },
    {
      "cell_type": "code",
      "execution_count": null,
      "metadata": {
        "id": "IFG7JMejujVU"
      },
      "outputs": [],
      "source": [
        "# Calculate per-person budget\n",
        "per_person_budget = budget / population\n",
        "print(f'Per Person Budget: ${per_person_budget:.2f}')"
      ]
    },
    {
      "cell_type": "markdown",
      "source": [
        "## 2. Lists\n",
        "Lists are used to store multiple items, which can be of any type (e.g., strings, numbers).\n",
        "\n",
        "Basic lists operations:\n",
        "- `append` - adds element to the end of list\n",
        "- `remove` - removes removes the first matching element (which is passed as an argument) from the list"
      ],
      "metadata": {
        "id": "t3I0UTZx01Zb"
      }
    },
    {
      "cell_type": "code",
      "source": [
        "# Example: Creating a list of policies\n",
        "policies = [\"Education\", \"Healthcare\", \"Housing\", \"Environment\"]\n",
        "print(f\"Available Policies: {policies}\")\n",
        "\n",
        "# Accessing and modifying elements\n",
        "print(f\"First Policy: {policies[0]}\")\n",
        "policies[1] = \"Public Health\"\n",
        "print(f\"Updated Policies: {policies}\")"
      ],
      "metadata": {
        "id": "6BeU3mCs04N2"
      },
      "execution_count": null,
      "outputs": []
    },
    {
      "cell_type": "markdown",
      "source": [
        "### Task 2.1: Create a list of five public policies you are interested in."
      ],
      "metadata": {
        "id": "J3NW98Mj0-qH"
      }
    },
    {
      "cell_type": "code",
      "source": [
        "# Create your list here\n",
        "policies_of_interest = []"
      ],
      "metadata": {
        "id": "uRDAQdMq0_G0"
      },
      "execution_count": null,
      "outputs": []
    },
    {
      "cell_type": "markdown",
      "source": [
        "### Task 2.2: Print the number of policies and retrieve the third policy in your list."
      ],
      "metadata": {
        "id": "4zSy5AD21BkF"
      }
    },
    {
      "cell_type": "code",
      "source": [
        "# Retrieve list details\n",
        "print(f'Total Policies: {}')\n",
        "print(f'Third Policy: {}')"
      ],
      "metadata": {
        "id": "7cLCWUdb1FXJ"
      },
      "execution_count": null,
      "outputs": []
    },
    {
      "cell_type": "markdown",
      "source": [
        "## 3. Loops\n",
        "Loops help automate repetitive tasks by iterating over items in a list or range."
      ],
      "metadata": {
        "id": "rHvZiqji1EFs"
      }
    },
    {
      "cell_type": "code",
      "source": [
        "# Example: Using a for-loop to print policy names\n",
        "for policy in policies:\n",
        "    print(f\"Analyzing policy: {policy}\")"
      ],
      "metadata": {
        "id": "QQqrOot51Ru-"
      },
      "execution_count": null,
      "outputs": []
    },
    {
      "cell_type": "code",
      "source": [
        "numbers = [1,2,3,446547]\n",
        "sum_of_numbers = 0\n",
        "for number in numbers:\n",
        "  sum_of_numbers = sum_of_numbers + number\n",
        "  print(f'Partial sum: {sum_of_numbers}')\n",
        "print(sum_of_numbers)"
      ],
      "metadata": {
        "id": "kxFI_k_zsDSi"
      },
      "execution_count": null,
      "outputs": []
    },
    {
      "cell_type": "markdown",
      "source": [
        "### Task 3.1: Write a loop that prints each policy in your `policies_of_interest` list."
      ],
      "metadata": {
        "id": "qv3OD1R11YXY"
      }
    },
    {
      "cell_type": "code",
      "source": [
        "# Write your loop here\n"
      ],
      "metadata": {
        "id": "R_U6aVQd1XlA"
      },
      "execution_count": null,
      "outputs": []
    },
    {
      "cell_type": "markdown",
      "source": [
        "### Task 3.2: Create a list of budgets for each policy and print each policy with its respective budget."
      ],
      "metadata": {
        "id": "NBZaP-gn1had"
      }
    },
    {
      "cell_type": "code",
      "source": [
        "# List of budgets\n",
        "a = ['a', 'b', 'c']\n",
        "b = [1,2,3]\n",
        "\n",
        "# Print policies with budgets\n",
        "\n",
        "for i in range(0, len(a), 1):\n",
        "  print(i)\n",
        "  # i is the number of index\n",
        "  print(f'{a[i]}: {b[i]}')"
      ],
      "metadata": {
        "id": "0fVkO0_h1kiE"
      },
      "execution_count": null,
      "outputs": []
    },
    {
      "cell_type": "markdown",
      "source": [
        "## 4. Conditional Statements\n",
        "Conditionals allow you to execute code blocks based on specific conditions."
      ],
      "metadata": {
        "id": "VHvh1cem1oiu"
      }
    },
    {
      "cell_type": "code",
      "source": [
        "# Example: Check if a budget is above a certain amount\n",
        "if budget > 100_000:\n",
        "    print(\"This is a major policy initiative.\")\n",
        "elif budget > 50_000 and budget < 10_000:\n",
        "    print(\"This is a moderate policy initiative.\")\n",
        "  #else if\n",
        "else:\n",
        "    print(\"This is a minor policy initiative.\")"
      ],
      "metadata": {
        "id": "dLZL2d9b1rl_"
      },
      "execution_count": null,
      "outputs": []
    },
    {
      "cell_type": "markdown",
      "source": [
        "### Task 4.1: Write a condition to check if the first budget in `policy_budgets` is greater than 100,000."
      ],
      "metadata": {
        "id": "Q-jLtRtq1vLf"
      }
    },
    {
      "cell_type": "code",
      "source": [
        "# Write your condition here\n",
        "if b[0] > 100_000:\n",
        "  print('It is grater than 100000')\n",
        "else:\n",
        "  print('It is not grater than 100000')"
      ],
      "metadata": {
        "id": "Qho-W7uO1x7s"
      },
      "execution_count": null,
      "outputs": []
    },
    {
      "cell_type": "markdown",
      "source": [
        "### Task 4.2: Write a loop with a condition to print only policies with budgets over 100,000."
      ],
      "metadata": {
        "id": "Et1cp7uA11c6"
      }
    },
    {
      "cell_type": "code",
      "source": [
        "# Write your loop here"
      ],
      "metadata": {
        "id": "lu1JkgFo14IU"
      },
      "execution_count": null,
      "outputs": []
    }
  ]
}