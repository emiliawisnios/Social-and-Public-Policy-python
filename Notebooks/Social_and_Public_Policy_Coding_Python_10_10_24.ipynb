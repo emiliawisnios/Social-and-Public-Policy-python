{
  "nbformat": 4,
  "nbformat_minor": 0,
  "metadata": {
    "colab": {
      "provenance": [],
      "authorship_tag": "ABX9TyPjZg2rRN2euyGy6kFKdpqV",
      "include_colab_link": true
    },
    "kernelspec": {
      "name": "python3",
      "display_name": "Python 3"
    },
    "language_info": {
      "name": "python"
    }
  },
  "cells": [
    {
      "cell_type": "markdown",
      "metadata": {
        "id": "view-in-github",
        "colab_type": "text"
      },
      "source": [
        "<a href=\"https://colab.research.google.com/github/emiliawisnios/Social-and-Public-Policy-python/blob/main/Notebooks/Social_and_Public_Policy_Coding_Python_10_10_24.ipynb\" target=\"_parent\"><img src=\"https://colab.research.google.com/assets/colab-badge.svg\" alt=\"Open In Colab\"/></a>"
      ]
    },
    {
      "cell_type": "markdown",
      "source": [
        "# Today's class\n",
        "Last time we've covered:\n",
        "- variables\n",
        "- lists\n",
        "- loops\n",
        "- conditional statements\n",
        "\n",
        "\n",
        "Today - dictionaries and recap of everything\n",
        "\n",
        "Exercises 1-5, 7 come from this course: https://github.com/Asabeneh/30-Days-Of-Python\n",
        "\n",
        "Next class: pandas, numpy"
      ],
      "metadata": {
        "id": "bHPLNL6o9NQt"
      }
    },
    {
      "cell_type": "markdown",
      "source": [
        "# Task 1\n",
        "\n",
        "Write a loop that makes seven calls to print(), so we get on the output the following triangle:\n",
        "```\n",
        "  #\n",
        "  ##\n",
        "  ###\n",
        "  ####\n",
        "  #####\n",
        "  ######\n",
        "  #######\n",
        "```\n"
      ],
      "metadata": {
        "id": "aABBj6gW_dz_"
      }
    },
    {
      "cell_type": "code",
      "source": [
        "for i in range(1, 8):\n",
        "  print('#' * i)"
      ],
      "metadata": {
        "id": "Ziy8QMdq9N2s"
      },
      "execution_count": null,
      "outputs": []
    },
    {
      "cell_type": "markdown",
      "source": [
        "# Task 2\n",
        "Print the following pattern:\n",
        "```\n",
        "0 x 0 = 0\n",
        "1 x 1 = 1\n",
        "2 x 2 = 4\n",
        "3 x 3 = 9\n",
        "4 x 4 = 16\n",
        "5 x 5 = 25\n",
        "6 x 6 = 36\n",
        "7 x 7 = 49\n",
        "8 x 8 = 64\n",
        "9 x 9 = 81\n",
        "10 x 10 = 100\n",
        "```"
      ],
      "metadata": {
        "id": "zvKi6s3q_lBW"
      }
    },
    {
      "cell_type": "code",
      "source": [
        "for i in range(0, 11):\n",
        "  print(f'{i} x {i} = {i * i}')"
      ],
      "metadata": {
        "id": "sRix2MjS9Nz2"
      },
      "execution_count": null,
      "outputs": []
    },
    {
      "cell_type": "code",
      "source": [
        "# 1st iteration: 0\n",
        "# 2nd iteration: 1\n",
        "# 3rd iteration: 2\n",
        "# ...\n",
        "# 9th iteration: 8\n",
        "# 10th iteration: 9\n",
        "# 11th iteration: 10"
      ],
      "metadata": {
        "id": "utMQv9yfNU-r"
      },
      "execution_count": null,
      "outputs": []
    },
    {
      "cell_type": "markdown",
      "source": [
        "# Task 3\n",
        "\n",
        "Use for loop to iterate from 0 to 100 and print the sum of all evens and the sum of all odds.\n",
        "```\n",
        "The sum of all evens is 2550. And the sum of all odds is 2500.\n",
        "```"
      ],
      "metadata": {
        "id": "PsrWf0sA_vN2"
      }
    },
    {
      "cell_type": "markdown",
      "source": [
        "`%` which means the modulo of the division\n",
        "\n",
        "```\n",
        "5/3 = 1 and 2 of the rest (5 = 1*3 + 2)\n",
        "7/2 = 3 and 1 of the rest (7 = 3*2 + 1)\n",
        "```\n",
        "In python:\n",
        "```\n",
        "5%3 = 2\n",
        "7%2 = 1\n",
        "```\n",
        "To check if th enumber is even or odd:\n",
        "```\n",
        "4%2 = 0, because 4 = 2*2 + 0\n",
        "5%2 = 1, because 5 = 2*2 + 1\n",
        "```\n"
      ],
      "metadata": {
        "id": "84Q33JgbN5Y2"
      }
    },
    {
      "cell_type": "code",
      "execution_count": null,
      "metadata": {
        "id": "QooASL-c8A3P"
      },
      "outputs": [],
      "source": [
        "sum_even = 0\n",
        "sum_odd = 0\n",
        "for i in range(0, 101):\n",
        "  if i % 2 == 0:\n",
        "    sum_even += i\n",
        "    # sum_even = sum_even + i\n",
        "  else:\n",
        "    sum_odd += i\n",
        "\n",
        "print(f'The sum of all evens is {sum_even}. And the sum of all odds is {sum_odd}.')\n"
      ]
    },
    {
      "cell_type": "code",
      "source": [
        "# x += 1 is the same as x = x + 1"
      ],
      "metadata": {
        "id": "676nBUFWQzNc"
      },
      "execution_count": null,
      "outputs": []
    },
    {
      "cell_type": "code",
      "source": [
        "# i % 3 == 0 -> then the number is dividable by 3\n",
        "# i % 3 == 1 -> 4 = 3 * 1 + 1\n",
        "# i % 3 == 2 -> 5 = 3 * 1 + 2"
      ],
      "metadata": {
        "id": "MwuN6whqRgLv"
      },
      "execution_count": null,
      "outputs": []
    },
    {
      "cell_type": "markdown",
      "source": [
        "# Task 4\n",
        "\n",
        "Get user input using input(“Enter your age: ”). If user is 18 or older, give feedback: You are old enough to drive. If below 18 give feedback to wait for the missing amount of years. Output:\n",
        "```\n",
        "Enter your age: 30\n",
        "You are old enough to learn to drive.\n",
        "Output:\n",
        "Enter your age: 15\n",
        "You need 3 more years to learn to drive.\n",
        "```"
      ],
      "metadata": {
        "id": "IVp--sJ9_5xH"
      }
    },
    {
      "cell_type": "code",
      "source": [
        "age = input('Enter your age: ')\n",
        "age = int(age) # we change type from str to int\n",
        "\n",
        "if age >= 18:\n",
        "  print('You are old enough to learn to drive.')\n",
        "else:\n",
        "  # so if the age is < 18\n",
        "  print(f'You need {18 - age} more years to learn to drive.')"
      ],
      "metadata": {
        "id": "n0N0n9kFSegq"
      },
      "execution_count": null,
      "outputs": []
    },
    {
      "cell_type": "markdown",
      "source": [
        "# Task 5\n",
        "\n",
        "Write a code which gives grade to students according to theirs scores:\n",
        "```\n",
        "90-100, A\n",
        "70-89, B\n",
        "60-69, C\n",
        "50-59, D\n",
        "0-49, F\n",
        "```"
      ],
      "metadata": {
        "id": "T3Z3uWjxAHel"
      }
    },
    {
      "cell_type": "code",
      "source": [
        "def grader(number_of_points: int) -> str:\n",
        "  ##############\n",
        "  # YOUR CODE GOES HERE\n",
        "  ###############\n",
        "  if 90 <= number_of_points <= 100:\n",
        "    grade = 'A'\n",
        "  elif 70 <= number_of_points <= 89:\n",
        "    grade = 'B'\n",
        "  elif 60 <= number_of_points <= 69:\n",
        "    grade = 'C'\n",
        "  elif 50 <= number_of_points <= 59:\n",
        "    grade = 'D'\n",
        "  elif 0 <= number_of_points <= 49:\n",
        "    grade = 'F'\n",
        "  else:\n",
        "    grade = 'Invalid input'\n",
        "\n",
        "  return grade"
      ],
      "metadata": {
        "id": "uGXXVsoCAQO8"
      },
      "execution_count": null,
      "outputs": []
    },
    {
      "cell_type": "code",
      "source": [
        "print(grader(90))\n",
        "print(grader(70))\n",
        "print(grader(60))\n",
        "print(grader(50))\n",
        "print(grader(49))\n",
        "\n",
        "print(grader(102))"
      ],
      "metadata": {
        "id": "iUaj31hQYpYD"
      },
      "execution_count": null,
      "outputs": []
    },
    {
      "cell_type": "markdown",
      "source": [
        "# Dictionaries\n",
        "\n",
        "Dictionaries store data in key-value pairs, which are useful for mapping relationships."
      ],
      "metadata": {
        "id": "jJU8iKMMAaxN"
      }
    },
    {
      "cell_type": "code",
      "source": [
        "telephone_book = {\n",
        "    'John': '123-456-7890',\n",
        "    'Jane': '123-456-7890',\n",
        "    'Bob': '555-555-5555'\n",
        "}"
      ],
      "metadata": {
        "id": "IbUP1ywIaE0O"
      },
      "execution_count": null,
      "outputs": []
    },
    {
      "cell_type": "code",
      "source": [
        "telephone_book['Bob']"
      ],
      "metadata": {
        "id": "xRRs_PwdaPs_"
      },
      "execution_count": null,
      "outputs": []
    },
    {
      "cell_type": "code",
      "source": [
        "# Example: Create a dictionary for policy details\n",
        "policy_details = {\n",
        "    \"Education\": {\"Budget\": 200000, \"Population\": 500000},\n",
        "    \"Healthcare\": {\"Budget\": 300000, \"Population\": 200000},\n",
        "    \"Environment\": {\"Budget\": 150000, \"Population\": 100000}\n",
        "}\n",
        "\n",
        "# Accessing elements\n",
        "print(f\"Education Policy Details: {policy_details['Education']}\")\n",
        "print(f\"Healthcare Budget: ${policy_details['Healthcare']['Budget']}\")"
      ],
      "metadata": {
        "id": "mdncmruaAgYw"
      },
      "execution_count": null,
      "outputs": []
    },
    {
      "cell_type": "markdown",
      "source": [
        "### Task 6: Create a dictionary for three policies with budget and population details."
      ],
      "metadata": {
        "id": "prTefLwmAkoJ"
      }
    },
    {
      "cell_type": "code",
      "source": [
        "# Create your dictionary here\n",
        "policy_dict = {\n",
        "    'Defence': {'Budget': 3435, 'Population': 325325},\n",
        "    'Policy2': {'Budget': 2352315, 'Population': 324324},\n",
        "    'Policy3': {'Budget': 234325, 'Population': 43254315}\n",
        "}"
      ],
      "metadata": {
        "id": "CIAxJ8y8AqM-"
      },
      "execution_count": null,
      "outputs": []
    },
    {
      "cell_type": "markdown",
      "source": [
        "### Task 6.2: Calculate and print the per-person allocation for each policy using a loop."
      ],
      "metadata": {
        "id": "ZmSKx49JAtvA"
      }
    },
    {
      "cell_type": "code",
      "source": [
        "for policy, details in policy_dict.items():\n",
        "  # policy = key, details = values\n",
        "  per_person_alocation = details['Budget'] / details['Population']\n",
        "  print(f'Policy: {policy}, Per-person allocation: {per_person_alocation}')"
      ],
      "metadata": {
        "id": "vLnfQhfuAzMx"
      },
      "execution_count": null,
      "outputs": []
    },
    {
      "cell_type": "markdown",
      "source": [
        "### Task 7\n",
        "\n",
        "1. Create an empty dictionary called dog\n",
        "2. Add name, color, breed, legs, age to the dog dictionary\n",
        "3. Create a student dictionary and add first_name, last_name, gender, age, marital status, skills, country, city and address as keys for the dictionary\n",
        "4. Get the length of the student dictionary\n",
        "5. Get the value of skills and check the data type, it should be a list\n",
        "6. Modify the skills values by adding one or two skills\n",
        "7. Get the dictionary keys as a list\n",
        "8. Get the dictionary values as a list\n",
        "9. Change the dictionary to a list of tuples using items() method\n",
        "10. Delete one of the items in the dictionary\n",
        "11. Delete one of the dictionaries\n"
      ],
      "metadata": {
        "id": "x9bzJMO8A1n3"
      }
    },
    {
      "cell_type": "code",
      "source": [],
      "metadata": {
        "id": "NQUW-94jA4Eb"
      },
      "execution_count": null,
      "outputs": []
    },
    {
      "cell_type": "markdown",
      "source": [
        "## Homework: Policy Budget Analysis\n",
        "Using all the concepts covered, perform the following tasks:\n",
        "\n",
        "### Task H.1: Create a list of five new policies and assign random budgets and population sizes to them.\n",
        "\n",
        "### Task H.2: Store these details in a dictionary.\n",
        "\n",
        "### Task H.3: Use loops and conditionals to:\n",
        "1. Print all policies with a per-person budget over $500.\n",
        "2. Identify the policy with the highest per-person budget.\n",
        "3. Calculate the total budget for all policies."
      ],
      "metadata": {
        "id": "sI1Kc3A5A4Ne"
      }
    },
    {
      "cell_type": "code",
      "source": [],
      "metadata": {
        "id": "wlJSLMuuBAf4"
      },
      "execution_count": null,
      "outputs": []
    }
  ]
}