{
  "nbformat": 4,
  "nbformat_minor": 0,
  "metadata": {
    "colab": {
      "provenance": [],
      "authorship_tag": "ABX9TyPOT6RFk0enJ/aTmsiVP2nD",
      "include_colab_link": true
    },
    "kernelspec": {
      "name": "python3",
      "display_name": "Python 3"
    },
    "language_info": {
      "name": "python"
    }
  },
  "cells": [
    {
      "cell_type": "markdown",
      "metadata": {
        "id": "view-in-github",
        "colab_type": "text"
      },
      "source": [
        "<a href=\"https://colab.research.google.com/github/emiliawisnios/Social-and-Public-Policy-python/blob/main/Notebooks/Social_and_Public_Policy_Coding_Python_10_10_24.ipynb\" target=\"_parent\"><img src=\"https://colab.research.google.com/assets/colab-badge.svg\" alt=\"Open In Colab\"/></a>"
      ]
    },
    {
      "cell_type": "markdown",
      "source": [
        "# Today's class\n",
        "Last time we've covered:\n",
        "- variables\n",
        "- lists\n",
        "- loops\n",
        "- conditional statements\n",
        "\n",
        "\n",
        "Today - dictionaries and recap of everything\n",
        "\n",
        "Exercises 1-5, 7 come from this course: https://github.com/Asabeneh/30-Days-Of-Python"
      ],
      "metadata": {
        "id": "bHPLNL6o9NQt"
      }
    },
    {
      "cell_type": "markdown",
      "source": [
        "# Task 1\n",
        "\n",
        "Write a loop that makes seven calls to print(), so we get on the output the following triangle:\n",
        "```\n",
        "  #\n",
        "  ##\n",
        "  ###\n",
        "  ####\n",
        "  #####\n",
        "  ######\n",
        "  #######\n",
        "```\n"
      ],
      "metadata": {
        "id": "aABBj6gW_dz_"
      }
    },
    {
      "cell_type": "code",
      "source": [],
      "metadata": {
        "id": "Ziy8QMdq9N2s"
      },
      "execution_count": null,
      "outputs": []
    },
    {
      "cell_type": "markdown",
      "source": [
        "# Task 2\n",
        "Print the following pattern:\n",
        "```\n",
        "0 x 0 = 0\n",
        "1 x 1 = 1\n",
        "2 x 2 = 4\n",
        "3 x 3 = 9\n",
        "4 x 4 = 16\n",
        "5 x 5 = 25\n",
        "6 x 6 = 36\n",
        "7 x 7 = 49\n",
        "8 x 8 = 64\n",
        "9 x 9 = 81\n",
        "10 x 10 = 100\n",
        "```"
      ],
      "metadata": {
        "id": "zvKi6s3q_lBW"
      }
    },
    {
      "cell_type": "code",
      "source": [],
      "metadata": {
        "id": "sRix2MjS9Nz2"
      },
      "execution_count": null,
      "outputs": []
    },
    {
      "cell_type": "markdown",
      "source": [
        "# Task 3\n",
        "\n",
        "Use for loop to iterate from 0 to 100 and print the sum of all evens and the sum of all odds.\n",
        "```\n",
        "The sum of all evens is 2550. And the sum of all odds is 2500.\n",
        "```"
      ],
      "metadata": {
        "id": "PsrWf0sA_vN2"
      }
    },
    {
      "cell_type": "code",
      "execution_count": null,
      "metadata": {
        "id": "QooASL-c8A3P"
      },
      "outputs": [],
      "source": []
    },
    {
      "cell_type": "markdown",
      "source": [
        "# Task 4\n",
        "\n",
        "Get user input using input(“Enter your age: ”). If user is 18 or older, give feedback: You are old enough to drive. If below 18 give feedback to wait for the missing amount of years. Output:\n",
        "```\n",
        "Enter your age: 30\n",
        "You are old enough to learn to drive.\n",
        "Output:\n",
        "Enter your age: 15\n",
        "You need 3 more years to learn to drive.\n",
        "```"
      ],
      "metadata": {
        "id": "IVp--sJ9_5xH"
      }
    },
    {
      "cell_type": "code",
      "source": [],
      "metadata": {
        "id": "hgGH36PJAHLA"
      },
      "execution_count": null,
      "outputs": []
    },
    {
      "cell_type": "markdown",
      "source": [
        "# Task 5\n",
        "\n",
        "Write a code which gives grade to students according to theirs scores:\n",
        "```\n",
        "80-100, A\n",
        "70-89, B\n",
        "60-69, C\n",
        "50-59, D\n",
        "0-49, F\n",
        "```"
      ],
      "metadata": {
        "id": "T3Z3uWjxAHel"
      }
    },
    {
      "cell_type": "code",
      "source": [],
      "metadata": {
        "id": "uGXXVsoCAQO8"
      },
      "execution_count": null,
      "outputs": []
    },
    {
      "cell_type": "markdown",
      "source": [
        "# Dictionaries\n",
        "\n",
        "Dictionaries store data in key-value pairs, which are useful for mapping relationships."
      ],
      "metadata": {
        "id": "jJU8iKMMAaxN"
      }
    },
    {
      "cell_type": "code",
      "source": [
        "# Example: Create a dictionary for policy details\n",
        "policy_details = {\n",
        "    \"Education\": {\"Budget\": 200000, \"Population\": 500000},\n",
        "    \"Healthcare\": {\"Budget\": 300000, \"Population\": 200000},\n",
        "    \"Environment\": {\"Budget\": 150000, \"Population\": 100000}\n",
        "}\n",
        "\n",
        "# Accessing elements\n",
        "print(f\"Education Policy Details: {policy_details['Education']}\")\n",
        "print(f\"Healthcare Budget: ${policy_details['Healthcare']['Budget']}\")"
      ],
      "metadata": {
        "id": "mdncmruaAgYw"
      },
      "execution_count": null,
      "outputs": []
    },
    {
      "cell_type": "markdown",
      "source": [
        "### Task 6: Create a dictionary for three policies with budget and population details."
      ],
      "metadata": {
        "id": "prTefLwmAkoJ"
      }
    },
    {
      "cell_type": "code",
      "source": [
        "# Create your dictionary here\n",
        "policy_dict = {\n",
        "    'Policy1': {'Budget': , 'Population': },\n",
        "    'Policy2': {'Budget': , 'Population': },\n",
        "    'Policy3': {'Budget': , 'Population': }\n",
        "}"
      ],
      "metadata": {
        "id": "CIAxJ8y8AqM-"
      },
      "execution_count": null,
      "outputs": []
    },
    {
      "cell_type": "markdown",
      "source": [
        "### Task 6.2: Calculate and print the per-person allocation for each policy using a loop."
      ],
      "metadata": {
        "id": "ZmSKx49JAtvA"
      }
    },
    {
      "cell_type": "code",
      "source": [
        "for policy, details in policy_dict.items():\n",
        "  #TODO\n",
        "  continue"
      ],
      "metadata": {
        "id": "vLnfQhfuAzMx"
      },
      "execution_count": null,
      "outputs": []
    },
    {
      "cell_type": "markdown",
      "source": [
        "### Task 7\n",
        "\n",
        "1. Create an empty dictionary called dog\n",
        "2. Add name, color, breed, legs, age to the dog dictionary\n",
        "3. Create a student dictionary and add first_name, last_name, gender, age, marital status, skills, country, city and address as keys for the dictionary\n",
        "4. Get the length of the student dictionary\n",
        "5. Get the value of skills and check the data type, it should be a list\n",
        "6. Modify the skills values by adding one or two skills\n",
        "7. Get the dictionary keys as a list\n",
        "8. Get the dictionary values as a list\n",
        "9. Change the dictionary to a list of tuples using items() method\n",
        "10. Delete one of the items in the dictionary\n",
        "11. Delete one of the dictionaries\n"
      ],
      "metadata": {
        "id": "x9bzJMO8A1n3"
      }
    },
    {
      "cell_type": "code",
      "source": [],
      "metadata": {
        "id": "NQUW-94jA4Eb"
      },
      "execution_count": null,
      "outputs": []
    },
    {
      "cell_type": "markdown",
      "source": [
        "## Homework: Policy Budget Analysis\n",
        "Using all the concepts covered, perform the following tasks:\n",
        "\n",
        "### Task H.1: Create a list of five new policies and assign random budgets and population sizes to them.\n",
        "\n",
        "### Task H.2: Store these details in a dictionary.\n",
        "\n",
        "### Task H.3: Use loops and conditionals to:\n",
        "1. Print all policies with a per-person budget over $500.\n",
        "2. Identify the policy with the highest per-person budget.\n",
        "3. Calculate the total budget for all policies."
      ],
      "metadata": {
        "id": "sI1Kc3A5A4Ne"
      }
    },
    {
      "cell_type": "code",
      "source": [],
      "metadata": {
        "id": "wlJSLMuuBAf4"
      },
      "execution_count": null,
      "outputs": []
    }
  ]
}