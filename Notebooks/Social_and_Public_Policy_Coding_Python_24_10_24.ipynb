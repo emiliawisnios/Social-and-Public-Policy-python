{
  "cells": [
    {
      "cell_type": "markdown",
      "metadata": {
        "id": "view-in-github",
        "colab_type": "text"
      },
      "source": [
        "<a href=\"https://colab.research.google.com/github/emiliawisnios/Social-and-Public-Policy-python/blob/main/Notebooks/Social_and_Public_Policy_Coding_Python_24_10_24.ipynb\" target=\"_parent\"><img src=\"https://colab.research.google.com/assets/colab-badge.svg\" alt=\"Open In Colab\"/></a>"
      ]
    },
    {
      "cell_type": "markdown",
      "metadata": {
        "id": "QitVEyKXySoX"
      },
      "source": [
        "In today's class we will focus on regular expressions (regex).\n",
        "\n",
        "Next time we will work on data scraping."
      ]
    },
    {
      "cell_type": "markdown",
      "metadata": {
        "id": "CiX40PuwySoh"
      },
      "source": [
        "## What is Regex?\n",
        "\n",
        "**Regular Expressions (regex)** are sequences of characters that define a search pattern, mainly used for string matching and manipulation. Think of regex as the grammar rules for the language of strings.\n",
        "\n",
        "> **Example:** If you want to find all the occurrences of \"cat\" in a text, regex can help you locate them effortlessly!"
      ]
    },
    {
      "cell_type": "markdown",
      "metadata": {
        "id": "zM8Sc7AdySoh"
      },
      "source": [
        "##  Why Use Regex?\n",
        "\n",
        "- **Efficiency:** Perform complex search and replace operations with minimal code.\n",
        "- **Flexibility:** Handle a wide variety of text processing tasks.\n",
        "- **Power:** Access advanced string manipulation features not easily achievable otherwise.\n"
      ]
    },
    {
      "cell_type": "markdown",
      "metadata": {
        "id": "N7zGYoeSySoh"
      },
      "source": [
        "##  Basic Regex Syntax\n",
        "\n",
        "\n",
        "| Regex | Description | Example |\n",
        "|-------|-------------|---------|\n",
        "| `.` | Matches any single character except newline | `c.t` matches `cat`, `cot`, `cut` |\n",
        "| `^` | Start of the string | `^Hello` matches any string that starts with `Hello` |\n",
        "| `$` | End of the string | `world$` matches any string that ends with `world` |\n",
        "| `*` | Matches 0 or more repetitions | `ca*t` matches `ct`, `cat`, `caat`, `caaat` |\n",
        "| `+` | Matches 1 or more repetitions | `ca+t` matches `cat`, `caat`, `caaat` but not `ct` |\n",
        "| `?` | Makes the preceding token optional | `ca?t` matches `ct` or `cat` |\n",
        "| `\\d` | Matches any digit | `\\d` matches `5` in `a5b` |\n",
        "| `\\w` | Matches any word character (alphanumeric & underscore) | `\\w` matches `a`, `5`, `_` |\n",
        "| `[abc]` | Matches any one character inside the brackets | `[cb]at` matches `cat`, `bat` |\n",
        "| `( )` | Groups multiple tokens together | `(cat\\|dog)` matches `cat` or `dog` |"
      ]
    },
    {
      "cell_type": "markdown",
      "metadata": {
        "id": "xMhlqGt7ySoh"
      },
      "source": [
        "##  Using Regex in Python\n",
        "\n",
        "Python's `re` module provides support for regex operations. Here's a quick overview of commonly used functions:\n",
        "\n",
        "- **`re.search(pattern, string)`**: Searches for the pattern anywhere in the string.\n",
        "- **`re.match(pattern, string)`**: Checks if the pattern matches at the beginning of the string.\n",
        "- **`re.findall(pattern, string)`**: Returns all non-overlapping matches of the pattern in the string.\n",
        "- **`re.sub(pattern, repl, string)`**: Replaces matches of the pattern with `repl`.\n",
        "\n",
        "\n",
        "```python\n",
        "import re\n",
        "\n",
        "# Let's find all the vowels in a sentence\n",
        "sentence = \"Why did the chicken join a band?\"\n",
        "vowels = re.findall(r'[aeiou]', sentence, re.IGNORECASE)\n",
        "print(\"Vowels found:\", vowels)\n",
        "```\n",
        "\n",
        "**Output:**\n",
        "```\n",
        "Vowels found: ['e', 'i', 'e', 'i', 'o', 'i', 'a', 'a']\n",
        "```"
      ]
    },
    {
      "cell_type": "markdown",
      "metadata": {
        "id": "qQib5gakySoi"
      },
      "source": [
        "### 1. Matching Silly Emails\n",
        "\n",
        "Imagine you want to find email addresses."
      ]
    },
    {
      "cell_type": "code",
      "metadata": {
        "execution_count": 1,
        "id": "SxEoXBTM6PaE"
      },
      "source": [
        "import re\n",
        "\n",
        "# Sample text with silly emails\n",
        "text = \"\"\"\n",
        "Here are some emails:\n",
        "- john.doe@example.com\n",
        "- funny_bunny@hoppity-hop.org\n",
        "- pirate!@shipwreck.net\n",
        "- unicorn@magic.realm\n",
        "\"\"\"\n",
        "\n",
        "# Regex pattern to match silly emails (allowing some unusual characters)\n",
        "pattern = r'\\b[\\w\\.-]+@[a-zA-Z0-9-]+\\.[a-zA-Z\\.]{2,}\\b'\n",
        "\n",
        "emails = re.findall(pattern, text)\n",
        "print(\"Emails Found:\")\n",
        "for email in emails:\n",
        "    print(email)"
      ],
      "outputs": [],
      "execution_count": null
    },
    {
      "cell_type": "markdown",
      "metadata": {
        "id": "7c7kM-0yySoj"
      },
      "source": [
        "*Note: `pirate!@shipwreck.net` is excluded because `!` is not typically allowed in email usernames.*"
      ]
    },
    {
      "cell_type": "markdown",
      "metadata": {
        "id": "XCeoxHf2ySoj"
      },
      "source": [
        "### 2. Finding Pirate Speak"
      ]
    },
    {
      "cell_type": "code",
      "metadata": {
        "execution_count": 2,
        "id": "8spfnjVh6cCl"
      },
      "source": [
        "import re\n",
        "\n",
        "# Sample sentence\n",
        "sentence = \"Hello there! How are you doing today?\"\n",
        "\n",
        "# Define pirate substitutions\n",
        "substitutions = {\n",
        "    r'\\bHello\\b': 'Ahoy',\n",
        "    r'\\bthere\\b': 'matey',\n",
        "    r'\\byou\\b': 'ye',\n",
        "    r'\\bdoing\\b': 'doin\\'\",\n",
        "    r'\\btoday\\b': 't\\'day',\n",
        "    r'\\bHow are\\b': 'How be',\n",
        "}\n",
        "\n",
        "# Apply substitutions\n",
        "for pattern, repl in substitutions.items():\n",
        "    sentence = re.sub(pattern, repl, sentence)\n",
        "\n",
        "print(\"Pirate Speak:\")\n",
        "print(sentence)"
      ],
      "outputs": [],
      "execution_count": null
    },
    {
      "cell_type": "markdown",
      "metadata": {
        "id": "6ukt08gYySoj"
      },
      "source": [
        "### 3. Detecting Unicorns\n",
        "\n",
        "Let's create a regex to detect mentions of unicorns in a whimsical text."
      ]
    },
    {
      "cell_type": "code",
      "metadata": {
        "execution_count": 3,
        "id": "QVpFVFj16EXt"
      },
      "source": [
        "import re\n",
        "\n",
        "# Sample text\n",
        "text = \"\"\"\n",
        "Once upon a time, a unicorn named Sparkle wandered into the enchanted forest.\n",
        "Another unicorn, Rainbow, joined Sparkle on her magical journey.\n",
        "But where is the unicorn now?\n",
        "\"\"\"\n",
        "\n",
        "# Regex pattern to find 'unicorn' followed by a name\n",
        "pattern = r'unicorn named (\\w+)'\n",
        "\n",
        "names = re.findall(pattern, text)\n",
        "print(\"Unicorn Names Found:\")\n",
        "for name in names:\n",
        "    print(name)"
      ],
      "outputs": [],
      "execution_count": null
    },
    {
      "cell_type": "markdown",
      "metadata": {
        "id": "dCgf8jrGySoj"
      },
      "source": [
        "*Note: Only \"Sparkle\" is captured because \"Rainbow\" is introduced differently.*"
      ]
    },
    {
      "cell_type": "markdown",
      "metadata": {
        "id": "-_pbHJh_ySoj"
      },
      "source": [
        "## Tips and Tricks\n",
        "\n",
        "- **Use Raw Strings:** Prefix your regex patterns with `r` to avoid issues with escape characters. e.g., `r'\\d+'`\n",
        "  \n",
        "  ```python\n",
        "  pattern = r'\\d+'\n",
        "  ```\n",
        "  \n",
        "- **Compile Your Patterns:** For repeated use, compile your regex for better performance.\n",
        "  \n",
        "  ```python\n",
        "  compiled_pattern = re.compile(r'\\bcat\\b')\n",
        "  matches = compiled_pattern.findall(\"The cat sat on the mat.\")\n",
        "  ```\n",
        "  \n",
        "- **Verbose Mode:** Use `re.VERBOSE` to write more readable regex patterns with comments.\n",
        "  \n",
        "  ```python\n",
        "  pattern = re.compile(r\"\"\"\n",
        "      \\b          # word boundary\n",
        "      cat         # match 'cat'\n",
        "      \\b          # word boundary\n",
        "      \"\"\", re.VERBOSE)\n",
        "  ```\n",
        "  \n",
        "- **Test Your Regex:** Websites like [regex101.com](https://regex101.com/) are excellent for testing and debugging your regex patterns."
      ]
    },
    {
      "cell_type": "markdown",
      "metadata": {
        "id": "w9FIHGJjySoj"
      },
      "source": [
        "## Homework\n",
        "\n",
        "Calculate how many times word `coffee` appears in the text below."
      ]
    },
    {
      "cell_type": "code",
      "source": [
        "text = '''\n",
        "The aroma of freshly brewed coffee filled the air as Amelia stumbled out of bed. She shuffled to the kitchen, her eyelids heavy with sleep, and fumbled for the coffee maker.  \"Ah, coffee,\" she sighed contentedly after the first sip, \"the elixir of life.\"\n",
        "\n",
        "With a jolt of caffeine coursing through her veins, Amelia started her day.  She glanced at the newspaper while sipping her coffee, the headlines blurring into a jumble of words.  Suddenly, a peculiar story caught her eye: \"Coffee Bean Bandit Strikes Again!\" Apparently, a mysterious figure was stealing coffee beans from local shops, leaving behind only a single, perfectly roasted coffee bean as a calling card.\n",
        "\n",
        "Intrigued, Amelia finished her coffee and headed to her favorite coffee shop, \"The Daily Grind.\"  The owner, a jittery man named Bob, was frantically pacing behind the counter. \"He took my best Sumatran!\" he wailed, \"The rarest coffee this side of the equator!\"  Amelia, fueled by her morning coffee and a newfound sense of adventure, decided to investigate.\n",
        "\n",
        "Her first lead came from a barista at another coffee shop who claimed to have seen a shadowy figure carrying a large sack of coffee beans.  The trail led her to a dimly lit alley where the lingering scent of coffee hung heavy in the air.  Following the aroma, she stumbled upon a hidden door.\n",
        "\n",
        "Inside, she found a secret coffee lair, filled with sacks of coffee beans from all over the world.  And there, in the center of it all, stood a man with a steaming cup of coffee in his hand.  He introduced himself as Bartholomew, a coffee enthusiast driven mad by the inferior quality of coffee in the city.  He was on a quest to create the perfect blend, and these stolen coffee beans were his ingredients.\n",
        "\n",
        "Amelia, though initially taken aback, understood his passion.  She, too, knew the importance of a good cup of coffee.  They talked for hours, debating the merits of different roasts and brewing methods.  By the end, they had formed an unlikely friendship, bonded by their shared love of coffee.  Bartholomew, realizing the error of his ways, decided to return the stolen coffee beans and open his own coffee shop, where he could share his passion with the world.  Amelia, of course, became his first regular customer.\n",
        "\n",
        "'''"
      ],
      "metadata": {
        "id": "XLLlPPN91Hhe"
      },
      "execution_count": null,
      "outputs": []
    },
    {
      "cell_type": "code",
      "source": [],
      "metadata": {
        "id": "IEaIzojR1ZWR"
      },
      "execution_count": null,
      "outputs": []
    }
  ],
  "metadata": {
    "colab": {
      "provenance": [],
      "include_colab_link": true
    },
    "kernelspec": {
      "name": "python3",
      "display_name": "Python 3",
      "language": "python"
    },
    "language_info": {
      "name": "python",
      "version": "3.10.6",
      "mimetype": "text/x-python",
      "codemirror_mode": {
        "name": "ipython",
        "version": 3
      },
      "pygments_lexer": "ipython3",
      "nbconvert_exporter": "python",
      "file_extension": ".py"
    }
  },
  "nbformat": 4,
  "nbformat_minor": 0
}