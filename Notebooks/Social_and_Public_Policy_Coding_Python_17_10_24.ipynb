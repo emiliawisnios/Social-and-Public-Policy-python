{
  "nbformat": 4,
  "nbformat_minor": 0,
  "metadata": {
    "colab": {
      "provenance": [],
      "authorship_tag": "ABX9TyMtJsKH6lc2fDN8Q3nnLAPI",
      "include_colab_link": true
    },
    "kernelspec": {
      "name": "python3",
      "display_name": "Python 3"
    },
    "language_info": {
      "name": "python"
    }
  },
  "cells": [
    {
      "cell_type": "markdown",
      "metadata": {
        "id": "view-in-github",
        "colab_type": "text"
      },
      "source": [
        "<a href=\"https://colab.research.google.com/github/emiliawisnios/Social-and-Public-Policy-python/blob/main/Notebooks/Social_and_Public_Policy_Coding_Python_17_10_24.ipynb\" target=\"_parent\"><img src=\"https://colab.research.google.com/assets/colab-badge.svg\" alt=\"Open In Colab\"/></a>"
      ]
    },
    {
      "cell_type": "markdown",
      "source": [
        "In today's class we will focus on two libraries: pandas and numpy.\n",
        "\n",
        "\n",
        "Next time we will work on regular expressions."
      ],
      "metadata": {
        "id": "8NDFbAR5w2z-"
      }
    },
    {
      "cell_type": "markdown",
      "source": [
        "# Environment setup"
      ],
      "metadata": {
        "id": "dhaw23QzxSCp"
      }
    },
    {
      "cell_type": "code",
      "source": [
        "!pip install kagglehub pandas numpy -q"
      ],
      "metadata": {
        "id": "d3n_C4tExUYl"
      },
      "execution_count": null,
      "outputs": []
    },
    {
      "cell_type": "markdown",
      "source": [
        "# Data downloading"
      ],
      "metadata": {
        "id": "uC8ryJAixIRt"
      }
    },
    {
      "cell_type": "code",
      "execution_count": null,
      "metadata": {
        "id": "ga3v1EAQwz3U"
      },
      "outputs": [],
      "source": [
        "import kagglehub\n",
        "\n",
        "# Download latest version\n",
        "path = kagglehub.dataset_download(\"ajaypalsinghlo/world-happiness-report-2021\")\n",
        "\n",
        "print(\"Path to dataset files:\", path)"
      ]
    },
    {
      "cell_type": "markdown",
      "source": [
        "# Data reading"
      ],
      "metadata": {
        "id": "5GEt-Kvpxy-Q"
      }
    },
    {
      "cell_type": "code",
      "source": [
        "import pandas as pd\n",
        "\n",
        "df = pd.read_csv(path + \"/world-happiness-report-2021.csv\")\n",
        "\n",
        "df.head()"
      ],
      "metadata": {
        "id": "G0ufgOOBxq2G"
      },
      "execution_count": null,
      "outputs": []
    },
    {
      "cell_type": "code",
      "source": [
        "df.tail()"
      ],
      "metadata": {
        "id": "oUxhxTWLx4RU"
      },
      "execution_count": null,
      "outputs": []
    },
    {
      "cell_type": "markdown",
      "source": [
        "Getting information about dataset"
      ],
      "metadata": {
        "id": "vrwYxw-4yAxy"
      }
    },
    {
      "cell_type": "code",
      "source": [
        "df.info()"
      ],
      "metadata": {
        "id": "-ylFYUyryE9u"
      },
      "execution_count": null,
      "outputs": []
    },
    {
      "cell_type": "markdown",
      "source": [
        "Displaying columns"
      ],
      "metadata": {
        "id": "srhBFqbSyYdQ"
      }
    },
    {
      "cell_type": "code",
      "source": [
        "df.columns"
      ],
      "metadata": {
        "id": "YZ_JiJtOyXgA"
      },
      "execution_count": null,
      "outputs": []
    },
    {
      "cell_type": "markdown",
      "source": [
        "Description of dataset"
      ],
      "metadata": {
        "id": "oiDLsgxmyhak"
      }
    },
    {
      "cell_type": "code",
      "source": [
        "df.describe()"
      ],
      "metadata": {
        "id": "rNA6-wLfynMs"
      },
      "execution_count": null,
      "outputs": []
    },
    {
      "cell_type": "markdown",
      "source": [
        "Acessing chosen columns"
      ],
      "metadata": {
        "id": "wnklrTa6yuLv"
      }
    },
    {
      "cell_type": "code",
      "source": [
        "df['Country name']"
      ],
      "metadata": {
        "id": "27rcGphdyrcF"
      },
      "execution_count": null,
      "outputs": []
    },
    {
      "cell_type": "markdown",
      "source": [
        "Filtering"
      ],
      "metadata": {
        "id": "HBp8Z_dty5ui"
      }
    },
    {
      "cell_type": "code",
      "source": [
        "df[df['Ladder score'] > 7]"
      ],
      "metadata": {
        "id": "mH4JzI-Vy75m"
      },
      "execution_count": null,
      "outputs": []
    },
    {
      "cell_type": "markdown",
      "source": [
        "Getting chosen values from the dataframe\n"
      ],
      "metadata": {
        "id": "kQ48S035zPJX"
      }
    },
    {
      "cell_type": "code",
      "source": [
        "df.loc[0, 'Country name']"
      ],
      "metadata": {
        "id": "GXTQEu0VzS6S"
      },
      "execution_count": null,
      "outputs": []
    },
    {
      "cell_type": "code",
      "source": [
        "df.iloc[0, 1]"
      ],
      "metadata": {
        "id": "HdjwSJ8CzVu2"
      },
      "execution_count": null,
      "outputs": []
    },
    {
      "cell_type": "markdown",
      "source": [
        "We can also change the value of the df in this way\n"
      ],
      "metadata": {
        "id": "kkvksJ-2zaZ0"
      }
    },
    {
      "cell_type": "code",
      "source": [
        "df.loc[0, 'Country name'] = 'Wakanda'\n",
        "df.head()"
      ],
      "metadata": {
        "id": "AlUFHPyfzeIr"
      },
      "execution_count": null,
      "outputs": []
    },
    {
      "cell_type": "markdown",
      "source": [
        "Sorting the values\n"
      ],
      "metadata": {
        "id": "EN5lYhIIzqiv"
      }
    },
    {
      "cell_type": "code",
      "source": [
        "df.sort_values(by='Logged GDP per capita', ascending=True)"
      ],
      "metadata": {
        "id": "nkASkAutzuLU"
      },
      "execution_count": null,
      "outputs": []
    },
    {
      "cell_type": "markdown",
      "source": [
        "Now let's do some simple calculations with numpy\n"
      ],
      "metadata": {
        "id": "aMLZAin64eCY"
      }
    },
    {
      "cell_type": "code",
      "source": [
        "health_life_expectancy = df['Healthy life expectancy'].to_numpy()\n",
        "health_life_expectancy"
      ],
      "metadata": {
        "id": "zKIN93oR4iFx"
      },
      "execution_count": null,
      "outputs": []
    },
    {
      "cell_type": "code",
      "source": [
        "health_life_expectancy.mean()"
      ],
      "metadata": {
        "id": "A-HNI9pR4st0"
      },
      "execution_count": null,
      "outputs": []
    },
    {
      "cell_type": "markdown",
      "source": [
        "Calculate the average 'Ladder score' for countries in the 'Western Europe' region using NumPy."
      ],
      "metadata": {
        "id": "TsEVwavA47An"
      }
    },
    {
      "cell_type": "code",
      "source": [
        "ladder_score = df[df['Regional indicator'] == 'Western Europe']['Ladder score'].to_numpy()\n",
        "ladder_score.mean()"
      ],
      "metadata": {
        "id": "VZ9ROjIB4zxg"
      },
      "execution_count": null,
      "outputs": []
    },
    {
      "cell_type": "markdown",
      "source": [
        "Subtract the 'Perceptions of corruption' values from 1."
      ],
      "metadata": {
        "id": "feJ4-np75Iie"
      }
    },
    {
      "cell_type": "code",
      "source": [
        "perceptions_of_corruption = 1 - df['Perceptions of corruption'].to_numpy()\n",
        "perceptions_of_corruption"
      ],
      "metadata": {
        "id": "LsfM-LV05JtH"
      },
      "execution_count": null,
      "outputs": []
    },
    {
      "cell_type": "markdown",
      "source": [
        "Use NumPy to find countries with 'Generosity' greater than 0.5."
      ],
      "metadata": {
        "id": "X22K9l6w5TP2"
      }
    },
    {
      "cell_type": "code",
      "source": [
        "generosity = df[df['Generosity'] > 0.5]['Country name'].to_numpy()\n",
        "generosity"
      ],
      "metadata": {
        "id": "-S3zp9Io5T8I"
      },
      "execution_count": null,
      "outputs": []
    },
    {
      "cell_type": "markdown",
      "source": [
        "# Data Aggregation and Grouping\n"
      ],
      "metadata": {
        "id": "7qIwLe-_5ddj"
      }
    },
    {
      "cell_type": "markdown",
      "source": [
        " Calculate the mean 'Ladder score' for each 'Regional indicator'."
      ],
      "metadata": {
        "id": "30-kUsWY5fCB"
      }
    },
    {
      "cell_type": "code",
      "source": [
        "df.groupby('Regional indicator')['Ladder score'].mean()"
      ],
      "metadata": {
        "id": "0KBa7X-x5eYL"
      },
      "execution_count": null,
      "outputs": []
    },
    {
      "cell_type": "markdown",
      "source": [
        "Find the minimum, maximum, and average 'Logged GDP per capita' for each region."
      ],
      "metadata": {
        "id": "TJmjdIUK5n_z"
      }
    },
    {
      "cell_type": "code",
      "source": [
        "df.groupby('Regional indicator')['Logged GDP per capita'].agg(['min', 'max', 'mean'])"
      ],
      "metadata": {
        "id": "G6NuiD075qR2"
      },
      "execution_count": null,
      "outputs": []
    },
    {
      "cell_type": "markdown",
      "source": [
        "Group by region, calculate the mean 'Ladder score', and sort the results in descending order."
      ],
      "metadata": {
        "id": "-uLtgaKv5tBj"
      }
    },
    {
      "cell_type": "code",
      "source": [
        "df.groupby('Regional indicator')['Ladder score'].mean().sort_values(ascending=False)"
      ],
      "metadata": {
        "id": "rwQZT7LK5xjS"
      },
      "execution_count": null,
      "outputs": []
    },
    {
      "cell_type": "markdown",
      "source": [
        "# Homework\n",
        "\n",
        "1. Change 3 values in the original dataframe\n",
        "2. Find country with highest freedom to make life choices\n",
        "3. Calculate mean freedom to make life choices for each regional indicator"
      ],
      "metadata": {
        "id": "mwBQPyJL50_K"
      }
    }
  ]
}